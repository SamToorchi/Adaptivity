{
  "nbformat": 4,
  "nbformat_minor": 0,
  "metadata": {
    "colab": {
      "name": "adaptivity.ipynb",
      "provenance": []
    },
    "kernelspec": {
      "name": "python3",
      "display_name": "Python 3"
    }
  },
  "cells": [
    {
      "cell_type": "markdown",
      "metadata": {
        "id": "gYfOFRdZ-G4Z",
        "colab_type": "text"
      },
      "source": [
        "# **Input variables**\n",
        "\n",
        "$t_{ex}$ $\\rightarrow$ expected time \\\\\n",
        "$t_{mes}$ $\\rightarrow$ measured time \\\\\n",
        "\n",
        "$t_{diff}$ $\\rightarrow$ time difference between expected time ($t_{ex}$) and measured time ($t_{mes}$)\n"
      ]
    },
    {
      "cell_type": "code",
      "metadata": {
        "id": "B5RNydwB9sfZ",
        "colab_type": "code",
        "colab": {
          "base_uri": "https://localhost:8080/",
          "height": 34
        },
        "outputId": "772a0f06-2d90-4128-fa95-fb15dbcb244a"
      },
      "source": [
        "import numpy as ny\n",
        "\n",
        "t_ex = 100\n",
        "t_mes = 90\n",
        "t_diff = t_ex - t_mes\n",
        "print(\"t(diff)=\", t_diff)"
      ],
      "execution_count": 16,
      "outputs": [
        {
          "output_type": "stream",
          "text": [
            "t(diff)= 10\n"
          ],
          "name": "stdout"
        }
      ]
    },
    {
      "cell_type": "markdown",
      "metadata": {
        "id": "NEavkv2S_6-u",
        "colab_type": "text"
      },
      "source": [
        "# **normalization of $t_{diff}$** \n",
        "\\\\\n",
        "how better or worse the player was compared to the given time\n",
        "\n",
        "$t_{norm}=\\frac{t_{diff}}{t_{ex}}$"
      ]
    },
    {
      "cell_type": "code",
      "metadata": {
        "id": "Mhpjf1ZPAtlv",
        "colab_type": "code",
        "colab": {
          "base_uri": "https://localhost:8080/",
          "height": 34
        },
        "outputId": "20bb2db4-4abc-4360-ec7e-b29fea2911ec"
      },
      "source": [
        "t_norm = t_diff/t_ex\n",
        "print(\"t(norm)=\", t_norm)"
      ],
      "execution_count": 15,
      "outputs": [
        {
          "output_type": "stream",
          "text": [
            "t(norm)= 0.1\n"
          ],
          "name": "stdout"
        }
      ]
    },
    {
      "cell_type": "markdown",
      "metadata": {
        "id": "75A8yF_cBfPt",
        "colab_type": "text"
      },
      "source": [
        "# **Input matrix**\n",
        "\n",
        "Matrix $M_{[i,j]}\\begin{vmatrix}\n",
        "i\\rightarrow answers \\\\ \n",
        "j \\rightarrow tries\n",
        "\\end{vmatrix}$ and $i,j\\in \\{0,1\\}$"
      ]
    },
    {
      "cell_type": "code",
      "metadata": {
        "id": "3EGLjP0LCt-2",
        "colab_type": "code",
        "colab": {
          "base_uri": "https://localhost:8080/",
          "height": 119
        },
        "outputId": "d07d1f5d-04bf-48e1-f9ff-b61e2a1af90a"
      },
      "source": [
        "vector_0 = ny.array([1, 0, 1, 1, 0])\n",
        "vector_1 = ny.array([1, 1, 1, 1, 0])\n",
        "vector_2 = ny.array([1, 1, 1, 1, 1])\n",
        "\n",
        "#### add manually ########\n",
        "vector_main = [vector_0, vector_1, vector_2]\n",
        "\n",
        "vector_main_ny = ny.column_stack((vector_main[0], vector_main[1], vector_main[2]))\n",
        "print(\"input matrix: \\n\", vector_main_ny)"
      ],
      "execution_count": 14,
      "outputs": [
        {
          "output_type": "stream",
          "text": [
            "input matrix: \n",
            " [[1 1 1]\n",
            " [0 1 1]\n",
            " [1 1 1]\n",
            " [1 1 1]\n",
            " [0 0 1]]\n"
          ],
          "name": "stdout"
        }
      ]
    },
    {
      "cell_type": "markdown",
      "metadata": {
        "id": "4CgsH82LDSdF",
        "colab_type": "text"
      },
      "source": [
        "**log graph**\n",
        "\n",
        "![log graph](https://www.intmath.com/blog/wp-content/images/2019/05/log10.png)"
      ]
    },
    {
      "cell_type": "markdown",
      "metadata": {
        "id": "0H1ps0MXDuaz",
        "colab_type": "text"
      },
      "source": [
        "| x  | $log_{10}x$ |\n",
        "|----|-------------|\n",
        "| 1  | 0           |\n",
        "| 2  | 0.301030    |\n",
        "| 3  | 0.477121    |\n",
        "| 4  | 0.602060    |\n",
        "| 5  | 0.698970    |\n",
        "| 6  | 0.778151    |\n",
        "| 7  | 0.845098    |\n",
        "| 8  | 0.903090    |\n",
        "| 9  | 0.954243    |\n",
        "| 10 | 1           |\n",
        "\n"
      ]
    },
    {
      "cell_type": "code",
      "metadata": {
        "id": "Fs8b4PRVGmcQ",
        "colab_type": "code",
        "colab": {}
      },
      "source": [
        "log_array = [1, 0.954243, 0.903090, 0.845098, 0.778151, 0.698970, 0.602060, 0.477121, 0.301030, 0]"
      ],
      "execution_count": 6,
      "outputs": []
    },
    {
      "cell_type": "markdown",
      "metadata": {
        "id": "Q7gjrnF5G3IU",
        "colab_type": "text"
      },
      "source": [
        "$n \\in \\{10, ..., 1\\}$ \\\\\n",
        "$r \\rightarrow log_{10}(n) = lg (n)$\n",
        "\n",
        "\n",
        "$K = \\varnothing (r * M_{[i,j]})$ \\\\\n",
        "$K| 0 < K < 1 $ \\\\\n",
        "\n",
        "every column of matrix will be multiplied by a runnung integer n as n-1: \\\\\n",
        "$K = \\begin{bmatrix}\n",
        " r_{10}*X_{1,1}& . & . & . &r_{1}*X_{1,j} \\\\ \n",
        " .&  &  &  & \\\\ \n",
        " .&  &  &  & \\\\ \n",
        " .&  &  &  & \\\\ \n",
        " r_{10}*X_{i,1}& . & . & . &r_{1}*X_{i,j}\n",
        "\\end{bmatrix} = \\begin{bmatrix}\n",
        " Y_{1,1}& . & . & . &Y_{1,j} \\\\ \n",
        " .&  &  &  & \\\\ \n",
        " .&  &  &  & \\\\ \n",
        " .&  &  &  & \\\\ \n",
        " Y_{i,1}& . & . & . &Y_{i,j}\n",
        "\\end{bmatrix} = \\begin{bmatrix}\n",
        "\\varnothing (Y_{1,1};...;Y_{1,j})\\\\ \n",
        ".\\\\ \n",
        ".\\\\ \n",
        ".\\\\ \n",
        "\\varnothing (Y_{i,1};...;Y_{i,j})\n",
        "\\end{bmatrix} = \\begin{bmatrix}\n",
        "Z_1\\\\ \n",
        ".\\\\ \n",
        ".\\\\ \n",
        ".\\\\ \n",
        "Z_l\n",
        "\\end{bmatrix} = \\varnothing (Z_1; ...; Z_l)$\n"
      ]
    },
    {
      "cell_type": "code",
      "metadata": {
        "id": "mhMGMZURK_KP",
        "colab_type": "code",
        "colab": {
          "base_uri": "https://localhost:8080/",
          "height": 136
        },
        "outputId": "80377c21-f3ab-4b47-96eb-1ddbe567a3db"
      },
      "source": [
        "vector_conc = []\n",
        "for i in range (0, len(vector_main)):\n",
        "    vector_conc.extend([ny.multiply(log_array[i],vector_main[i])])\n",
        "\n",
        "\n",
        "#### add manually ########\n",
        "matrix = ny.column_stack((vector_conc[0], vector_conc[1], vector_conc[2]))\n",
        "print(matrix)\n",
        "\n",
        "matrix_mean = ny.matrix(matrix).mean()\n",
        "print(\"\\n K=\", matrix_mean)"
      ],
      "execution_count": 10,
      "outputs": [
        {
          "output_type": "stream",
          "text": [
            "[[1.   0.95 0.9 ]\n",
            " [0.   0.95 0.9 ]\n",
            " [1.   0.95 0.9 ]\n",
            " [1.   0.95 0.9 ]\n",
            " [0.   0.   0.9 ]]\n",
            "\n",
            " K= 0.7533333333333334\n"
          ],
          "name": "stdout"
        }
      ]
    },
    {
      "cell_type": "markdown",
      "metadata": {
        "id": "-Gqayr2ILfHO",
        "colab_type": "text"
      },
      "source": [
        "# **reward or punish the user with $t_{norm}$**\n",
        "\n",
        "$R_{reward} = f(t_{norm})=W_{reward} * t_{norm}$ \\\\\n",
        "$W_{reward} = 0.1$ "
      ]
    },
    {
      "cell_type": "code",
      "metadata": {
        "id": "n6R4qNItMHu6",
        "colab_type": "code",
        "colab": {
          "base_uri": "https://localhost:8080/",
          "height": 34
        },
        "outputId": "e33ba943-57e9-4b8f-fbca-29387e73fec9"
      },
      "source": [
        "r_reward = 0.1*t_norm\n",
        "print(\"R(reward)=\", r_reward)"
      ],
      "execution_count": 12,
      "outputs": [
        {
          "output_type": "stream",
          "text": [
            "R(reward)= 0.010000000000000002\n"
          ],
          "name": "stdout"
        }
      ]
    },
    {
      "cell_type": "markdown",
      "metadata": {
        "id": "ueO9yJKdMhyO",
        "colab_type": "text"
      },
      "source": [
        "# Adaptivity factor\n",
        "\n",
        "$W_{matrix} = 0.9$ \\\\\n",
        "$AF$ $\\rightarrow$ Adaptivity factor  \n",
        "\n",
        "$AF = R_{reward} + W_{matrix}*K$ \n",
        "\n"
      ]
    },
    {
      "cell_type": "code",
      "metadata": {
        "id": "EOMhLuCpNiLe",
        "colab_type": "code",
        "colab": {
          "base_uri": "https://localhost:8080/",
          "height": 34
        },
        "outputId": "05062c53-84d6-46bb-af2a-48feee3b5a4d"
      },
      "source": [
        "result = r_reward + 0.9 * matrix_mean\n",
        "print(\"Adaptivity factor: \", result)"
      ],
      "execution_count": 19,
      "outputs": [
        {
          "output_type": "stream",
          "text": [
            "Adaptivity factor:  0.6880000000000001\n"
          ],
          "name": "stdout"
        }
      ]
    }
  ]
}